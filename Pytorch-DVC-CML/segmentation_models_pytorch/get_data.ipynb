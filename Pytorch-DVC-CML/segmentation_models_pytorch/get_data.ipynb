{
 "cells": [
  {
   "cell_type": "code",
   "execution_count": 1,
   "id": "6bcadb78",
   "metadata": {},
   "outputs": [],
   "source": [
    "from segmentation_models_pytorch.datasets import SimpleOxfordPetDataset"
   ]
  },
  {
   "cell_type": "code",
   "execution_count": 2,
   "id": "5b09d4f0",
   "metadata": {},
   "outputs": [
    {
     "name": "stderr",
     "output_type": "stream",
     "text": [
      "images.tar.gz: 100%|██████████| 755M/755M [00:25<00:00, 31.4MB/s]    \n",
      "annotations.tar.gz: 100%|██████████| 18.3M/18.3M [00:02<00:00, 8.41MB/s]\n"
     ]
    }
   ],
   "source": [
    "# download data\n",
    "root = \"pets_data\"\n",
    "SimpleOxfordPetDataset.download(root)"
   ]
  },
  {
   "cell_type": "code",
   "execution_count": null,
   "id": "c1a2fe0e",
   "metadata": {},
   "outputs": [],
   "source": []
  }
 ],
 "metadata": {
  "kernelspec": {
   "display_name": "conda_pytorch_p310",
   "language": "python",
   "name": "conda_pytorch_p310"
  },
  "language_info": {
   "codemirror_mode": {
    "name": "ipython",
    "version": 3
   },
   "file_extension": ".py",
   "mimetype": "text/x-python",
   "name": "python",
   "nbconvert_exporter": "python",
   "pygments_lexer": "ipython3",
   "version": "3.10.10"
  }
 },
 "nbformat": 4,
 "nbformat_minor": 5
}
